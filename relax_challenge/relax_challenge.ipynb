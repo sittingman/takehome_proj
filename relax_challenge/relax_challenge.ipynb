{
 "cells": [
  {
   "cell_type": "markdown",
   "metadata": {},
   "source": [
    "### Objective:\n",
    "\n",
    "##### Identify which factors predict future user adoption.\n",
    "\n",
    "Approach: \n",
    "- create a list of adopted users based on engagement dataset. Adopted users are those who have logged into the product on three separate days in at least one seven-day period.\n",
    "- map the list back to user info dataset and run classification models to assess feature importance on prediction"
   ]
  },
  {
   "cell_type": "code",
   "execution_count": 1,
   "metadata": {},
   "outputs": [],
   "source": [
    "import pandas as pd\n",
    "import numpy as np\n",
    "from scipy import stats\n",
    "import matplotlib.pyplot as plt\n",
    "%matplotlib inline"
   ]
  },
  {
   "cell_type": "markdown",
   "metadata": {},
   "source": [
    "##### Get Engagement Data"
   ]
  },
  {
   "cell_type": "code",
   "execution_count": 2,
   "metadata": {},
   "outputs": [],
   "source": [
    "engagement = pd.read_csv('takehome_user_engagement.csv', encoding='latin-1')"
   ]
  },
  {
   "cell_type": "code",
   "execution_count": 3,
   "metadata": {},
   "outputs": [
    {
     "name": "stdout",
     "output_type": "stream",
     "text": [
      "<class 'pandas.core.frame.DataFrame'>\n",
      "RangeIndex: 207917 entries, 0 to 207916\n",
      "Data columns (total 3 columns):\n",
      " #   Column      Non-Null Count   Dtype \n",
      "---  ------      --------------   ----- \n",
      " 0   time_stamp  207917 non-null  object\n",
      " 1   user_id     207917 non-null  int64 \n",
      " 2   visited     207917 non-null  int64 \n",
      "dtypes: int64(2), object(1)\n",
      "memory usage: 4.8+ MB\n"
     ]
    }
   ],
   "source": [
    "engagement.info()"
   ]
  },
  {
   "cell_type": "code",
   "execution_count": 4,
   "metadata": {},
   "outputs": [],
   "source": [
    "# Time stamp is not in datetime format, convert that to datetime\n",
    "engagement['time_stamp'] = pd.to_datetime(engagement['time_stamp'], errors='coerce')"
   ]
  },
  {
   "cell_type": "code",
   "execution_count": 5,
   "metadata": {},
   "outputs": [],
   "source": [
    "# Extact date as a new attribute\n",
    "engagement['date'] = engagement['time_stamp'].dt.date"
   ]
  },
  {
   "cell_type": "markdown",
   "metadata": {},
   "source": [
    "##### Creating shift features\n",
    "\n",
    "This is to find if a particular has used product three times within a seven day period. Need to sort the dataframe by user_id & date first."
   ]
  },
  {
   "cell_type": "code",
   "execution_count": 6,
   "metadata": {},
   "outputs": [],
   "source": [
    "engage_sort = engagement.sort_values(by=['user_id', 'date'], ascending=True)"
   ]
  },
  {
   "cell_type": "code",
   "execution_count": 7,
   "metadata": {},
   "outputs": [],
   "source": [
    "engage_sort['last_2_use'] = engage_sort['date'].shift(2)\n",
    "engage_sort['id_match'] = engage_sort['user_id'].shift(2)"
   ]
  },
  {
   "cell_type": "code",
   "execution_count": 8,
   "metadata": {},
   "outputs": [],
   "source": [
    "# Convert datetime day difference into integer\n",
    "engage_sort['days_among_3_use'] = (engage_sort['date']-engage_sort['last_2_use'])/ np.timedelta64(1, 'D')"
   ]
  },
  {
   "cell_type": "markdown",
   "metadata": {},
   "source": [
    "##### Create Adopt feature\n",
    "\n",
    "- after shifting data down by two, if id match the user_id on the same row, then that user_id had used the product at least three times.\n",
    "- if days_among_3_use has a value of seven or less, the user is adopted user, assign 1, otherwise 0."
   ]
  },
  {
   "cell_type": "code",
   "execution_count": 9,
   "metadata": {},
   "outputs": [],
   "source": [
    "engage_sort['adopt'] = np.where((engage_sort['days_among_3_use'] <=7) & (engage_sort['user_id'] == engage_sort['id_match']), 1, 0)"
   ]
  },
  {
   "cell_type": "code",
   "execution_count": 10,
   "metadata": {},
   "outputs": [],
   "source": [
    "# groupby step to get final summary on user_id and adopt\n",
    "engage_df = engage_sort.groupby(['user_id'], as_index=False).agg({'adopt': 'max'})"
   ]
  },
  {
   "cell_type": "code",
   "execution_count": 11,
   "metadata": {},
   "outputs": [
    {
     "data": {
      "text/plain": [
       "0    7167\n",
       "1    1656\n",
       "Name: adopt, dtype: int64"
      ]
     },
     "execution_count": 11,
     "metadata": {},
     "output_type": "execute_result"
    }
   ],
   "source": [
    "engage_df['adopt'].value_counts()"
   ]
  },
  {
   "cell_type": "markdown",
   "metadata": {},
   "source": [
    "Average adoption rate is about **18.7%**"
   ]
  },
  {
   "cell_type": "markdown",
   "metadata": {},
   "source": [
    "##### Get user data"
   ]
  },
  {
   "cell_type": "code",
   "execution_count": 12,
   "metadata": {},
   "outputs": [],
   "source": [
    "users = pd.read_csv('takehome_users.csv', encoding='latin-1')"
   ]
  },
  {
   "cell_type": "code",
   "execution_count": 13,
   "metadata": {},
   "outputs": [
    {
     "name": "stdout",
     "output_type": "stream",
     "text": [
      "<class 'pandas.core.frame.DataFrame'>\n",
      "RangeIndex: 12000 entries, 0 to 11999\n",
      "Data columns (total 10 columns):\n",
      " #   Column                      Non-Null Count  Dtype  \n",
      "---  ------                      --------------  -----  \n",
      " 0   object_id                   12000 non-null  int64  \n",
      " 1   creation_time               12000 non-null  object \n",
      " 2   name                        12000 non-null  object \n",
      " 3   email                       12000 non-null  object \n",
      " 4   creation_source             12000 non-null  object \n",
      " 5   last_session_creation_time  8823 non-null   float64\n",
      " 6   opted_in_to_mailing_list    12000 non-null  int64  \n",
      " 7   enabled_for_marketing_drip  12000 non-null  int64  \n",
      " 8   org_id                      12000 non-null  int64  \n",
      " 9   invited_by_user_id          6417 non-null   float64\n",
      "dtypes: float64(2), int64(4), object(4)\n",
      "memory usage: 937.6+ KB\n"
     ]
    }
   ],
   "source": [
    "users.info()"
   ]
  },
  {
   "cell_type": "markdown",
   "metadata": {},
   "source": [
    "Add adopt attribute to the user data. For missing values, assume those users did not adopt since no engagement records exist."
   ]
  },
  {
   "cell_type": "code",
   "execution_count": 14,
   "metadata": {},
   "outputs": [],
   "source": [
    "user_engage = pd.merge(users, engage_df, left_on='object_id', right_on='user_id', how='outer')"
   ]
  },
  {
   "cell_type": "code",
   "execution_count": 15,
   "metadata": {},
   "outputs": [],
   "source": [
    "user_engage['adopt'] = user_engage['adopt'].fillna(0)"
   ]
  },
  {
   "cell_type": "code",
   "execution_count": 16,
   "metadata": {},
   "outputs": [
    {
     "data": {
      "text/html": [
       "<div>\n",
       "<style scoped>\n",
       "    .dataframe tbody tr th:only-of-type {\n",
       "        vertical-align: middle;\n",
       "    }\n",
       "\n",
       "    .dataframe tbody tr th {\n",
       "        vertical-align: top;\n",
       "    }\n",
       "\n",
       "    .dataframe thead th {\n",
       "        text-align: right;\n",
       "    }\n",
       "</style>\n",
       "<table border=\"1\" class=\"dataframe\">\n",
       "  <thead>\n",
       "    <tr style=\"text-align: right;\">\n",
       "      <th></th>\n",
       "      <th>object_id</th>\n",
       "      <th>creation_time</th>\n",
       "      <th>name</th>\n",
       "      <th>email</th>\n",
       "      <th>creation_source</th>\n",
       "      <th>last_session_creation_time</th>\n",
       "      <th>opted_in_to_mailing_list</th>\n",
       "      <th>enabled_for_marketing_drip</th>\n",
       "      <th>org_id</th>\n",
       "      <th>invited_by_user_id</th>\n",
       "      <th>user_id</th>\n",
       "      <th>adopt</th>\n",
       "    </tr>\n",
       "  </thead>\n",
       "  <tbody>\n",
       "    <tr>\n",
       "      <th>0</th>\n",
       "      <td>1</td>\n",
       "      <td>2014-04-22 03:53:30</td>\n",
       "      <td>Clausen August</td>\n",
       "      <td>AugustCClausen@yahoo.com</td>\n",
       "      <td>GUEST_INVITE</td>\n",
       "      <td>1.398139e+09</td>\n",
       "      <td>1</td>\n",
       "      <td>0</td>\n",
       "      <td>11</td>\n",
       "      <td>10803.0</td>\n",
       "      <td>1.0</td>\n",
       "      <td>0.0</td>\n",
       "    </tr>\n",
       "    <tr>\n",
       "      <th>1</th>\n",
       "      <td>2</td>\n",
       "      <td>2013-11-15 03:45:04</td>\n",
       "      <td>Poole Matthew</td>\n",
       "      <td>MatthewPoole@gustr.com</td>\n",
       "      <td>ORG_INVITE</td>\n",
       "      <td>1.396238e+09</td>\n",
       "      <td>0</td>\n",
       "      <td>0</td>\n",
       "      <td>1</td>\n",
       "      <td>316.0</td>\n",
       "      <td>2.0</td>\n",
       "      <td>1.0</td>\n",
       "    </tr>\n",
       "    <tr>\n",
       "      <th>2</th>\n",
       "      <td>3</td>\n",
       "      <td>2013-03-19 23:14:52</td>\n",
       "      <td>Bottrill Mitchell</td>\n",
       "      <td>MitchellBottrill@gustr.com</td>\n",
       "      <td>ORG_INVITE</td>\n",
       "      <td>1.363735e+09</td>\n",
       "      <td>0</td>\n",
       "      <td>0</td>\n",
       "      <td>94</td>\n",
       "      <td>1525.0</td>\n",
       "      <td>3.0</td>\n",
       "      <td>0.0</td>\n",
       "    </tr>\n",
       "    <tr>\n",
       "      <th>3</th>\n",
       "      <td>4</td>\n",
       "      <td>2013-05-21 08:09:28</td>\n",
       "      <td>Clausen Nicklas</td>\n",
       "      <td>NicklasSClausen@yahoo.com</td>\n",
       "      <td>GUEST_INVITE</td>\n",
       "      <td>1.369210e+09</td>\n",
       "      <td>0</td>\n",
       "      <td>0</td>\n",
       "      <td>1</td>\n",
       "      <td>5151.0</td>\n",
       "      <td>4.0</td>\n",
       "      <td>0.0</td>\n",
       "    </tr>\n",
       "    <tr>\n",
       "      <th>4</th>\n",
       "      <td>5</td>\n",
       "      <td>2013-01-17 10:14:20</td>\n",
       "      <td>Raw Grace</td>\n",
       "      <td>GraceRaw@yahoo.com</td>\n",
       "      <td>GUEST_INVITE</td>\n",
       "      <td>1.358850e+09</td>\n",
       "      <td>0</td>\n",
       "      <td>0</td>\n",
       "      <td>193</td>\n",
       "      <td>5240.0</td>\n",
       "      <td>5.0</td>\n",
       "      <td>0.0</td>\n",
       "    </tr>\n",
       "  </tbody>\n",
       "</table>\n",
       "</div>"
      ],
      "text/plain": [
       "   object_id        creation_time               name  \\\n",
       "0          1  2014-04-22 03:53:30     Clausen August   \n",
       "1          2  2013-11-15 03:45:04      Poole Matthew   \n",
       "2          3  2013-03-19 23:14:52  Bottrill Mitchell   \n",
       "3          4  2013-05-21 08:09:28    Clausen Nicklas   \n",
       "4          5  2013-01-17 10:14:20          Raw Grace   \n",
       "\n",
       "                        email creation_source  last_session_creation_time  \\\n",
       "0    AugustCClausen@yahoo.com    GUEST_INVITE                1.398139e+09   \n",
       "1      MatthewPoole@gustr.com      ORG_INVITE                1.396238e+09   \n",
       "2  MitchellBottrill@gustr.com      ORG_INVITE                1.363735e+09   \n",
       "3   NicklasSClausen@yahoo.com    GUEST_INVITE                1.369210e+09   \n",
       "4          GraceRaw@yahoo.com    GUEST_INVITE                1.358850e+09   \n",
       "\n",
       "   opted_in_to_mailing_list  enabled_for_marketing_drip  org_id  \\\n",
       "0                         1                           0      11   \n",
       "1                         0                           0       1   \n",
       "2                         0                           0      94   \n",
       "3                         0                           0       1   \n",
       "4                         0                           0     193   \n",
       "\n",
       "   invited_by_user_id  user_id  adopt  \n",
       "0             10803.0      1.0    0.0  \n",
       "1               316.0      2.0    1.0  \n",
       "2              1525.0      3.0    0.0  \n",
       "3              5151.0      4.0    0.0  \n",
       "4              5240.0      5.0    0.0  "
      ]
     },
     "execution_count": 16,
     "metadata": {},
     "output_type": "execute_result"
    }
   ],
   "source": [
    "user_engage.head(5)"
   ]
  },
  {
   "cell_type": "markdown",
   "metadata": {},
   "source": [
    "### Exploratory & Chi Square Test\n",
    "\n",
    "The following attributes will be reviewed\n",
    "- creation_source\n",
    "- opted_in_to_mailing_list\n",
    "- enabled_for_marketing_drip\n",
    "\n",
    "These three features have small numbers of category and will be easier to run visualization and Chi Square Test"
   ]
  },
  {
   "cell_type": "code",
   "execution_count": 17,
   "metadata": {},
   "outputs": [],
   "source": [
    "def form_crosstab(df, attr):\n",
    "    \"\"\"create crosstab dataframe among adoption across users\n",
    "\n",
    "    Args:\n",
    "    df: name of the dataframe\n",
    "    attr: attributes in the dataframe\n",
    "\n",
    "    Returns:\n",
    "    crosstab table\n",
    "    \"\"\"\n",
    "    table = pd.crosstab(df[attr], df['adopt'], values=df['adopt'],\n",
    "                        aggfunc='count', normalize='index')\n",
    "    return table"
   ]
  },
  {
   "cell_type": "code",
   "execution_count": 18,
   "metadata": {},
   "outputs": [],
   "source": [
    "def bar_plot(data, var):\n",
    "    \"\"\"Stack bar chart to show the result of % of adopted users to total by attribute\n",
    "\n",
    "    Args:\n",
    "    data: crosstab table object\n",
    "    var: attritbute in the dataframe\n",
    "\n",
    "    Returns:\n",
    "    stacked bar chart\n",
    "    \"\"\"\n",
    "    data.plot.bar(stacked=True, figsize=(10, 5))\n",
    "    plt.title('adoption rate by '+var, fontsize=20)\n",
    "    plt.xlabel(var, fontsize=15)\n",
    "    plt.ylabel('%', fontsize=15)\n",
    "    plt.legend(('Not Adopt', 'Adopted'))\n",
    "    plt.autoscale(enable=True)\n",
    "    plt.show()"
   ]
  },
  {
   "cell_type": "code",
   "execution_count": 19,
   "metadata": {},
   "outputs": [
    {
     "data": {
      "image/png": "[encoded data removed]",
      "text/plain": [
       "<Figure size 720x360 with 1 Axes>"
      ]
     },
     "metadata": {
      "needs_background": "light"
     },
     "output_type": "display_data"
    }
   ],
   "source": [
    "bar_plot(form_crosstab(user_engage, 'creation_source'), 'creation_source')"
   ]
  },
  {
   "cell_type": "code",
   "execution_count": 20,
   "metadata": {},
   "outputs": [
    {
     "data": {
      "image/png": "[encoded data removed]",
      "text/plain": [
       "<Figure size 720x360 with 1 Axes>"
      ]
     },
     "metadata": {
      "needs_background": "light"
     },
     "output_type": "display_data"
    }
   ],
   "source": [
    "bar_plot(form_crosstab(user_engage, 'opted_in_to_mailing_list'), 'email_opt_in')"
   ]
  },
  {
   "cell_type": "code",
   "execution_count": 21,
   "metadata": {},
   "outputs": [
    {
     "data": {
      "image/png": "[encoded data removed]",
      "text/plain": [
       "<Figure size 720x360 with 1 Axes>"
      ]
     },
     "metadata": {
      "needs_background": "light"
     },
     "output_type": "display_data"
    }
   ],
   "source": [
    "bar_plot(form_crosstab(user_engage, 'enabled_for_marketing_drip'), 'marketing_drip')"
   ]
  },
  {
   "cell_type": "markdown",
   "metadata": {},
   "source": [
    "**Observations**\n",
    "\n",
    "- creation_source appears to have predictive value - Personal Project has the highest average engagement %\n",
    "<br>\n",
    "- opted_in_to_mailing_list and enabled_for_marketing_drip do not appear to be influence adoption rates. We will run Chi-Square test to confirm."
   ]
  },
  {
   "cell_type": "code",
   "execution_count": 22,
   "metadata": {},
   "outputs": [],
   "source": [
    "def chi_sq_test(df, attr, target):\n",
    "    \"\"\"measure p-value of chi_sq test for attributes\n",
    "\n",
    "    Args:\n",
    "    attr: attribute that is being test\n",
    "\n",
    "    Returns:\n",
    "    p-values, degree of freedom\n",
    "    \"\"\"\n",
    "    table = pd.crosstab(df[attr], df[target],\n",
    "                        values=df[target], aggfunc='count')\n",
    "    stat, p, dof, expected = stats.chi2_contingency(table[[0, 1]])\n",
    "    print('attribute tested: {}'.format(attr))\n",
    "    print('p-value: {:.2f}'.format(p))\n",
    "    print('degree of freedom: {:.0f}'.format(dof))"
   ]
  },
  {
   "cell_type": "code",
   "execution_count": 23,
   "metadata": {},
   "outputs": [
    {
     "name": "stdout",
     "output_type": "stream",
     "text": [
      "attribute tested: creation_source\n",
      "p-value: 0.00\n",
      "degree of freedom: 4\n"
     ]
    }
   ],
   "source": [
    "chi_sq_test(user_engage, 'creation_source', 'adopt')"
   ]
  },
  {
   "cell_type": "code",
   "execution_count": 24,
   "metadata": {},
   "outputs": [
    {
     "name": "stdout",
     "output_type": "stream",
     "text": [
      "attribute tested: opted_in_to_mailing_list\n",
      "p-value: 0.35\n",
      "degree of freedom: 1\n"
     ]
    }
   ],
   "source": [
    "chi_sq_test(user_engage, 'opted_in_to_mailing_list', 'adopt')"
   ]
  },
  {
   "cell_type": "code",
   "execution_count": 25,
   "metadata": {},
   "outputs": [
    {
     "name": "stdout",
     "output_type": "stream",
     "text": [
      "attribute tested: enabled_for_marketing_drip\n",
      "p-value: 0.49\n",
      "degree of freedom: 1\n"
     ]
    }
   ],
   "source": [
    "chi_sq_test(user_engage, 'enabled_for_marketing_drip', 'adopt')"
   ]
  },
  {
   "cell_type": "markdown",
   "metadata": {},
   "source": [
    "Both email opt_in_to_mailing_list and enabled_for_marketing_drip do not pass Chi Square Test. Conclude that they are not factors that predict user adoption\n",
    "\n",
    "On the other hand, creation_source is a predictive feature."
   ]
  },
  {
   "cell_type": "markdown",
   "metadata": {},
   "source": [
    "### Test with classification models\n",
    "\n",
    "**Org_id** and **invited_by_user_id** have many categories. It won't be easy to evaluation them through visualization and Chi Square test returned nan p-value. One way to assess them is to defined higher level of category based on the information the columns.\n",
    "\n",
    "For example, we can create a new variable \"referred\" for users that are invited by other users to the product versus not."
   ]
  },
  {
   "cell_type": "markdown",
   "metadata": {},
   "source": [
    "**Invited_by_user_id** --> **referred**"
   ]
  },
  {
   "cell_type": "code",
   "execution_count": 26,
   "metadata": {},
   "outputs": [],
   "source": [
    "user_engage['referred'] = np.where(user_engage['invited_by_user_id'].isna(), 0, 1)"
   ]
  },
  {
   "cell_type": "code",
   "execution_count": 27,
   "metadata": {},
   "outputs": [
    {
     "data": {
      "text/plain": [
       "1    6417\n",
       "0    5583\n",
       "Name: referred, dtype: int64"
      ]
     },
     "execution_count": 27,
     "metadata": {},
     "output_type": "execute_result"
    }
   ],
   "source": [
    "user_engage['referred'].value_counts()"
   ]
  },
  {
   "cell_type": "markdown",
   "metadata": {},
   "source": [
    "We find out that half of the people are invited by other users. Now we can put this into visualization and Chi Square Test"
   ]
  },
  {
   "cell_type": "code",
   "execution_count": 28,
   "metadata": {},
   "outputs": [
    {
     "data": {
      "image/png": "[encoded data removed]",
      "text/plain": [
       "<Figure size 720x360 with 1 Axes>"
      ]
     },
     "metadata": {
      "needs_background": "light"
     },
     "output_type": "display_data"
    },
    {
     "name": "stdout",
     "output_type": "stream",
     "text": [
      "attribute tested: referred\n",
      "p-value: 0.00\n",
      "degree of freedom: 1\n"
     ]
    }
   ],
   "source": [
    "bar_plot(form_crosstab(user_engage, 'referred'), 'referred')\n",
    "chi_sq_test(user_engage, 'referred', 'adopt')"
   ]
  },
  {
   "cell_type": "markdown",
   "metadata": {},
   "source": [
    "The visualization does not show clear difference, but the variable passed Chi Square test. We will conclude that this feature has some predictive power to user adoption."
   ]
  },
  {
   "cell_type": "markdown",
   "metadata": {},
   "source": [
    "**Org_id** --> **range of adoption**\n",
    "\n",
    "Not knowing the exact meaning of each org_id, we cannot perform high level grouping as we don't know the relationship among each id. Instead, we will observe the range of adoption rates across all org_id. If the range of variation is obvious, we will believe that org_id could matter."
   ]
  },
  {
   "cell_type": "code",
   "execution_count": 29,
   "metadata": {},
   "outputs": [],
   "source": [
    "org_id = form_crosstab(user_engage, 'org_id')\n",
    "org_id.columns = ['Not Adopt', 'Adopted']"
   ]
  },
  {
   "cell_type": "code",
   "execution_count": 30,
   "metadata": {},
   "outputs": [],
   "source": [
    "org_id = org_id.sort_values(by='Adopted')"
   ]
  },
  {
   "cell_type": "code",
   "execution_count": 31,
   "metadata": {},
   "outputs": [
    {
     "name": "stderr",
     "output_type": "stream",
     "text": [
      "C:\\Users\\sit_k\\AppData\\Local\\Continuum\\anaconda3\\lib\\site-packages\\ipykernel_launcher.py:3: SettingWithCopyWarning: \n",
      "A value is trying to be set on a copy of a slice from a DataFrame.\n",
      "Try using .loc[row_indexer,col_indexer] = value instead\n",
      "\n",
      "See the caveats in the documentation: https://pandas.pydata.org/pandas-docs/stable/user_guide/indexing.html#returning-a-view-versus-a-copy\n",
      "  This is separate from the ipykernel package so we can avoid doing imports until\n"
     ]
    }
   ],
   "source": [
    "org_id_clean = org_id.drop_duplicates()\n",
    "# This is a force ranking to allow easier visualization later\n",
    "org_id_clean['rank'] = org_id_clean['Adopted'].rank()"
   ]
  },
  {
   "cell_type": "code",
   "execution_count": 32,
   "metadata": {},
   "outputs": [
    {
     "data": {
      "image/png": "[encoded data removed]",
      "text/plain": [
       "<Figure size 1080x360 with 1 Axes>"
      ]
     },
     "metadata": {
      "needs_background": "light"
     },
     "output_type": "display_data"
    },
    {
     "data": {
      "text/plain": [
       "count    137.000000\n",
       "mean       0.162420\n",
       "std        0.096782\n",
       "min        0.000000\n",
       "25%        0.095238\n",
       "50%        0.138889\n",
       "75%        0.217391\n",
       "max        0.583333\n",
       "Name: Adopted, dtype: float64"
      ]
     },
     "execution_count": 32,
     "metadata": {},
     "output_type": "execute_result"
    }
   ],
   "source": [
    "plt.figure(figsize=(15,5))\n",
    "plt.plot(org_id_clean['rank'], org_id_clean['Adopted'])\n",
    "plt.ylabel('adoption %')\n",
    "plt.xlabel('ranking')\n",
    "plt.title('The range of adoption % across all org')\n",
    "plt.show()\n",
    "org_id_clean['Adopted'].describe()"
   ]
  },
  {
   "cell_type": "markdown",
   "metadata": {},
   "source": [
    "While average adoption rate is at 18.7%, some org_id has as high as 58% of adoption rate. The big fluctuation suggest that org_id probably has predictive power as well."
   ]
  },
  {
   "cell_type": "markdown",
   "metadata": {},
   "source": [
    "#### Remaining Features Candidates\n",
    "\n",
    "User name, account creation time, and latest session login time are random information that do not have predictive power to new data."
   ]
  },
  {
   "cell_type": "markdown",
   "metadata": {},
   "source": [
    "### Conclusion/Findings\n",
    "\n",
    "We identity the following features that will be useful on predicting user adoption:\n",
    "- creation source\n",
    "- referred by other users or not\n",
    "- org_id\n",
    "\n",
    "From the exploratory analysis above, the majority of the features are not very powerful. For example, 'referred by other users or not' feature did not show a visible difference in visualization, and it happens to pass the chi-square test. org_id do not have context behind relationship among each org and will result in too many features when it comes to machine learning. We would expect the model performance with those features will be weak. Features such as email opted and enable marketing drip are not predictive. It could be because the app usage is independent of email communication (the user may get push notification instead). \n",
    "The creation source is the most useful feature in this dataset as it is descriptive, and active rates difference is noticeable.\n",
    "To have better prediction performance, I would recommend collecting the following information:\n",
    "- the function of the apps. Without knowing what exactly the app is, it will be challenging to determine features\n",
    "- the definition of the org_id, which allows us to group them into higher-level categories\n",
    "- network analysis on user referral could be helpful (whose referrals will likely to bring in loyal users)"
   ]
  }
 ],
 "metadata": {
  "kernelspec": {
   "display_name": "Python 3",
   "language": "python",
   "name": "python3"
  },
  "language_info": {
   "codemirror_mode": {
    "name": "ipython",
    "version": 3
   },
   "file_extension": ".py",
   "mimetype": "text/x-python",
   "name": "python",
   "nbconvert_exporter": "python",
   "pygments_lexer": "ipython3",
   "version": "3.7.3"
  }
 },
 "nbformat": 4,
 "nbformat_minor": 4
}
