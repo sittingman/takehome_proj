{
 "cells": [
  {
   "cell_type": "markdown",
   "metadata": {},
   "source": [
    "# Part- 2 - Experiment and metrics design"
   ]
  },
  {
   "cell_type": "code",
   "execution_count": 1,
   "metadata": {},
   "outputs": [
    {
     "data": {
      "text/html": [
       "<style>\n",
       "    table {\n",
       "        display: inline-block\n",
       "    }\n",
       "</style>\n"
      ],
      "text/plain": [
       "<IPython.core.display.HTML object>"
      ]
     },
     "metadata": {},
     "output_type": "display_data"
    }
   ],
   "source": [
    "%%html\n",
    "<style>\n",
    "    table {\n",
    "        display: inline-block\n",
    "    }\n",
    "</style>"
   ]
  },
  {
   "cell_type": "markdown",
   "metadata": {},
   "source": [
    "#### Question suggested\n",
    "\n",
    "| Days of week | Gotham | Metropolis |\n",
    "| :-: | :-| :-: |\n",
    "| weekdays | active at night | active during day |\n",
    "| weekend | active full day | active full day |\n",
    "\n",
    "\n",
    "#### Caveats:\n",
    "The Ultimate managers believe that it was the two-way toll that discouraged Gotham and Metropolis to serve clients across the cities. These are significant supply assumptions that need data to justify.\n",
    "\n",
    "Perhaps there could be demand issues. For example, Gotham could have more night activities that trigger clients to use the services more at night. Metropolis could be a financial center in which clients use the service more often during the day. Maybe there is a well developed public transit system between the two cities that the schedule is more frequent during weekdays, but less during weekends, which triggers the use of the services between the two cities.\n",
    "\n",
    "If the root causes are demand issues, then reimbursing the two way toll back to drivers may not drive up supply since there would be no demand.\n",
    "\n",
    "On the supply side, it would be helpful to survey the drivers to see if the two-way toll is a factor that discourages them from serving both cities. Note that there is reasonable activity over weekends in both cities, while toll fees still in effect. Drivers may prefer not to cross the bridge during weekdays to avoid traffic congestions. This preference is independent of the tolls.."
   ]
  },
  {
   "cell_type": "markdown",
   "metadata": {},
   "source": [
    "### Metrics:\n",
    "\n",
    "Assuming that we have data to prove that the two-way toll is a factor that discourages drivers from taking clients across two cities. We will establish the key metrics be the mean number of cross cities routes (denoted as **tp**) that drivers make during weekdays.\n",
    "The hypothesis of statistical testing is a one-tail test on the difference of **tp** before and after, denoted as **tp_detla** (pre-post approach).\n",
    "\n",
    "**H0**: **tp_delta** = 0 \n",
    "\n",
    "**H1**: **tp_delta** > 0\n",
    "\n",
    "### Steps on implementation:\n",
    "- Collect a large enough sample size from drivers across two cities\n",
    "- Sample representation should be balanced and randomized\n",
    "    -50/50 among Gotham and Metropolis\n",
    "    -sample cover a wide range of characteristics such as drivers gender, years of experience, area coverage in the city, and driving frequency (prevent selection bias)\n",
    "- Introduce the two-way toll fee reimbursement program to the sample population. Drivers need to opt-in to participate (encouragement design).\n",
    "- Take **tp** measurement for those who opt-in, using past three months of route history (**tp** before).\n",
    "- Let the programs run for three months. Take **tp** at the end of the third month (**tp** after).\n",
    "- Get **tp_delta** and access that with a normal distribution curve. Note that the normal distribution cure will have a mean of 0, but the standard deviation will need alignment from Ultimate management.\n",
    "- After standard deviation is set, test **tp_delta** under 95% of significant threshold. If **tp_delta** exceeds the z value of 1.64, we will reject H0 and favor the program is successful in encouraging more cross-city trips."
   ]
  },
  {
   "cell_type": "markdown",
   "metadata": {},
   "source": [
    "### Interpret Results\n",
    "\n",
    "Among the passing of the statistical test, we will need to access the **tp_delta** through controlling different variables based on drivers' characteristics. We want to understand if other key motivations would make drivers want to make more cross-city trips beyond the two-way toll reimbursement. After all, driver's motivations vary, there is seldom a one size fit all solution.\n",
    "<br>\n",
    "Also, reimbursing the toll fees mean cost to Ultimate. If every driver takes up the toll fees reimbursement program, it could result in a heavy financial burden to the company. Down the road, the program should be more targeted. For example, it can narrow down to certain hours during the weekday for reimbursement to occur. Have drivers to commit specific numbers of cross-city rides to be qualified to participate. Watch out for local government regulations as programs could adversely impact public transportation profitability and/or results in externalities such as more congestion on the bridge during weekdays."
   ]
  }
 ],
 "metadata": {
  "kernelspec": {
   "display_name": "Python 3",
   "language": "python",
   "name": "python3"
  },
  "language_info": {
   "codemirror_mode": {
    "name": "ipython",
    "version": 3
   },
   "file_extension": ".py",
   "mimetype": "text/x-python",
   "name": "python",
   "nbconvert_exporter": "python",
   "pygments_lexer": "ipython3",
   "version": "3.7.3"
  }
 },
 "nbformat": 4,
 "nbformat_minor": 4
}
