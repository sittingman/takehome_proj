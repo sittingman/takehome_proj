{
 "cells": [
  {
   "cell_type": "markdown",
   "metadata": {},
   "source": [
    "# Part- 2 - Experiment and metrics design"
   ]
  },
  {
   "cell_type": "code",
   "execution_count": 1,
   "metadata": {},
   "outputs": [
    {
     "data": {
      "text/html": [
       "<style>\n",
       "    table {\n",
       "        display: inline-block\n",
       "    }\n",
       "</style>\n"
      ],
      "text/plain": [
       "<IPython.core.display.HTML object>"
      ]
     },
     "metadata": {},
     "output_type": "display_data"
    }
   ],
   "source": [
    "%%html\n",
    "<style>\n",
    "    table {\n",
    "        display: inline-block\n",
    "    }\n",
    "</style>"
   ]
  },
  {
   "cell_type": "markdown",
   "metadata": {},
   "source": [
    "#### Question suggested\n",
    "\n",
    "| Days of week | Gotham | Metropolis |\n",
    "| :-: | :-| :-: |\n",
    "| weekdays | active at night | active during day |\n",
    "| weekend | active full day | active full day |\n",
    "\n",
    "\n",
    "#### Caveats:\n",
    "The Ultimate managers believe that it was the two-way toll that discouraged Gotham and Metropolis to serve clients across the cities. These are significant supply assumptions that need data to justify.\n",
    "\n",
    "Perhaps there could be demand issues. For example, Gotham could have more night activities that trigger clients to use the services more at night. Metropolis could be a financial center in which clients use the service more often during the day. Maybe there is a well developed public transit system between the two cities that the schedule is more frequent during weekdays, but less during weekends, which triggers the use of the services between the two cities.\n",
    "\n",
    "If the root causes are demand issues, then reimbursing the two way toll back to drivers may not drive up supply since there would be no demand.\n",
    "\n",
    "On the supply side, it would be helpful to survey the drivers to see if the two-way toll is a factor that discourages them from serving both cities. Note that there is reasonable activity over weekends in both cities, while toll fees still in effect. Drivers may prefer not to cross the bridge during weekdays to avoid traffic congestions. This preference is independent of the tolls.."
   ]
  },
  {
   "cell_type": "markdown",
   "metadata": {},
   "source": [
    "### Metrics:\n",
    "\n",
    "Assuming that we have data to prove that the two-way toll is a factor that discourages drivers from taking clients across two cities. The following key metrics would be of interest.\n",
    "\n",
    "- **Numbers of cross-city trips made**: the underlying assumption is that if the toll fees reimbursement program is effective, drivers will make more trips across cities. It also helps to address if that could be a demand issue, as discussed above.\n",
    "- **The total number of trips made in general**: we want to ensure that the increase in cross-city trips is incremental, but not purely driven by drivers making fewer local trips.\n",
    "- **Driving time**: would the program increase driving time since drivers have fewer restrictions on servicing trips in both cities? This metric is to assess driving motivations, as discussed \n",
    "above.\n",
    "- **Percentage of trips made during the day vs. night, weekday vs. weekend in both Gotham and Metropolis**: we are interested to see if this program would make the activities across both cities more balanced between day and night, weekday vs. weekend. \n",
    "\n",
    "The hypothesis of statistical testing is a one-tail test on the difference of key metrics above before and after, denoted as **delta**.\n",
    "\n",
    "**H0**: **delta** = 0\n",
    "<br>\n",
    "**H1**: **delta** > 0\n",
    "\n",
    "\n",
    "### Steps on implementation:\n",
    "- Collect a large enough sample size from drivers across two cities through randomizations\n",
    "- Take baseline measurements on the key metrics before the experiment starts. Ensure to track driver attributes such as gender, driving experience, city of residence, etc. Information will help to identify key features that drive the increase/decrease of the key metrics for further analysis need. Information also helps better explain the results to the audience with some level of details beyond just the key metrics results\n",
    "- Introduce the two-way toll fee reimbursement program to the sample population. Drivers need to opt-in to participate (encouragement design).\n",
    "- The duration of the experiment will be highly dependent on Ultimate budget and timing on when they want to see results. Recommend three months to allow enough time data point to see changes in trend.\n",
    "- Get **delta** and access that with a normal distribution curve. Note that the cure will have a mean of 0, but the standard deviation will need alignment from Ultimate management, based on their success requirements.\n",
    "- After standard deviation is set, test **delta** under **95%** of significant threshold. If **delta** exceeds the z value of 1.64, we will reject H0 and favor the program is successful in driving up the respective key metrics."
   ]
  },
  {
   "cell_type": "markdown",
   "metadata": {},
   "source": [
    "### Interpret Results\n",
    "\n",
    "Among the passing of the statistical test, we will need to access the **delta** through controlling different variables based on drivers' characteristics. We want to understand if other key motivations would make drivers want to make more cross-city trips beyond the two-way toll reimbursement. After all, driver's motivations vary, there is seldom a one size fit all solution.\n",
    "<br>\n",
    "Also, reimbursing the toll fees mean cost to Ultimate. If every driver takes up the toll fees reimbursement program, it could result in a heavy financial burden to the company. Down the road, the program should be more targeted. For example, it can narrow down to certain hours during the weekday for reimbursement to occur. Have drivers to commit specific numbers of cross-city rides to be qualified to participate. Watch out for local government regulations as programs could adversely impact public transportation profitability and/or results in externalities such as more congestion on the bridge during weekdays."
   ]
  }
 ],
 "metadata": {
  "kernelspec": {
   "display_name": "Python 3",
   "language": "python",
   "name": "python3"
  },
  "language_info": {
   "codemirror_mode": {
    "name": "ipython",
    "version": 3
   },
   "file_extension": ".py",
   "mimetype": "text/x-python",
   "name": "python",
   "nbconvert_exporter": "python",
   "pygments_lexer": "ipython3",
   "version": "3.7.3"
  }
 },
 "nbformat": 4,
 "nbformat_minor": 4
}
